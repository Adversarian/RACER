{
 "cells": [
  {
   "cell_type": "code",
   "execution_count": 1,
   "metadata": {},
   "outputs": [
    {
     "name": "stdout",
     "output_type": "stream",
     "text": [
      "(CVXPY) Jul 20 10:54:56 PM: Encountered unexpected exception importing solver GLOP:\n",
      "RuntimeError('Unrecognized new version of ortools (9.6.2534). Expected < 9.5.0.Please open a feature request on cvxpy to enable support for this version.')\n",
      "(CVXPY) Jul 20 10:54:56 PM: Encountered unexpected exception importing solver PDLP:\n",
      "RuntimeError('Unrecognized new version of ortools (9.6.2534). Expected < 9.5.0.Please open a feature request on cvxpy to enable support for this version.')\n"
     ]
    }
   ],
   "source": [
    "import pandas as pd\n",
    "from RACER import RACER, RACERPreprocessor\n",
    "from sklearn.model_selection import train_test_split"
   ]
  },
  {
   "attachments": {},
   "cell_type": "markdown",
   "metadata": {},
   "source": [
    "# ZOO DATASET"
   ]
  },
  {
   "cell_type": "code",
   "execution_count": 2,
   "metadata": {},
   "outputs": [],
   "source": [
    "# Download the dataset from https://archive.ics.uci.edu/ml/machine-learning-databases/zoo/\n",
    "\n",
    "df = pd.read_csv(\n",
    "    \"datasets/zoo.data\",\n",
    "    names=[\n",
    "        \"animal_name\",\n",
    "        \"hair\",\n",
    "        \"feathers\",\n",
    "        \"eggs\",\n",
    "        \"milk\",\n",
    "        \"airborne\",\n",
    "        \"aquatic\",\n",
    "        \"predator\",\n",
    "        \"toothed\",\n",
    "        \"backbone\",\n",
    "        \"breathes\",\n",
    "        \"venomous\",\n",
    "        \"fins\",\n",
    "        \"legs\",\n",
    "        \"tail\",\n",
    "        \"domestic\",\n",
    "        \"catsize\",\n",
    "        \"type\",\n",
    "    ],\n",
    ")\n"
   ]
  },
  {
   "cell_type": "code",
   "execution_count": 3,
   "metadata": {},
   "outputs": [],
   "source": [
    "X = df.drop(columns=['animal_name', 'type']).astype('category')\n",
    "Y = df[['type']].astype('category')"
   ]
  },
  {
   "cell_type": "code",
   "execution_count": 4,
   "metadata": {},
   "outputs": [],
   "source": [
    "X, Y = RACERPreprocessor(target=\"multiclass\").fit_transform(X, Y)"
   ]
  },
  {
   "cell_type": "code",
   "execution_count": 5,
   "metadata": {},
   "outputs": [],
   "source": [
    "X_train, X_test, Y_train, Y_test = train_test_split(X,Y, random_state=1, test_size=0.3)"
   ]
  },
  {
   "cell_type": "code",
   "execution_count": 6,
   "metadata": {},
   "outputs": [
    {
     "name": "stdout",
     "output_type": "stream",
     "text": [
      "WARNING: RACER was unable to find a perfect match for 3 instances out of 31\n",
      "These instances will be labelled as the majority class during training.\n"
     ]
    },
    {
     "data": {
      "text/plain": [
       "0.8709677419354839"
      ]
     },
     "execution_count": 6,
     "metadata": {},
     "output_type": "execute_result"
    }
   ],
   "source": [
    "racer = RACER(alpha=0.95, suppress_warnings=False, benchmark=True)\n",
    "racer.fit(X_train, Y_train)\n",
    "racer.score(X_test, Y_test)\n"
   ]
  },
  {
   "cell_type": "code",
   "execution_count": 7,
   "metadata": {},
   "outputs": [
    {
     "name": "stdout",
     "output_type": "stream",
     "text": [
      "Algorithm Parameters:\n",
      "\t- Alpha: 0.95\n",
      "\t- Time to fit: 0.006635076000065965s\n",
      "\n",
      "Final Rules (8 total): (if --> then (label) | fitness)\n",
      "\t[111011011111111101011011111000111111] --> [1000000] (0) | 0.9685714285714285\n",
      "\t[100101101111111001011010010000011111] --> [0100000] (1) | 0.9607142857142856\n",
      "\t[101001101001110101101101100000011111] --> [0001000] (3) | 0.9571428571428571\n",
      "\t[101011101011011010111110101011111011] --> [0000001] (6) | 0.9542857142857143\n",
      "\t[111001101110101010011110000010101010] --> [0000010] (5) | 0.9535714285714285\n",
      "\t[101011101011111101111110101000011011] --> [0010000] (2) | 0.9528571428571428\n",
      "\t[101001101001110101011110001000101010] --> [0000100] (4) | 0.9521428571428571\n",
      "\t[101001101010101010011010100000101010] --> [0000001] (6) | 0.9507142857142856\n"
     ]
    }
   ],
   "source": [
    "racer.display_rules()"
   ]
  },
  {
   "attachments": {},
   "cell_type": "markdown",
   "metadata": {},
   "source": [
    "# CAR EVALUATION DATASET"
   ]
  },
  {
   "cell_type": "code",
   "execution_count": 8,
   "metadata": {},
   "outputs": [],
   "source": [
    "# Download the dataset from https://archive.ics.uci.edu/dataset/19/car+evaluation\n",
    "\n",
    "df = pd.read_csv(\n",
    "    \"datasets/car.data\",\n",
    "    names=[\n",
    "        \"buying\",\n",
    "        \"maint\",\n",
    "        \"doors\",\n",
    "        \"persons\",\n",
    "        \"lug_boot\",\n",
    "        \"safety\",\n",
    "        \"class\",\n",
    "    ]\n",
    ")"
   ]
  },
  {
   "cell_type": "code",
   "execution_count": 9,
   "metadata": {},
   "outputs": [],
   "source": [
    "X = df.drop(columns=['class']).astype('category')\n",
    "Y = df[['class']].astype('category')"
   ]
  },
  {
   "cell_type": "code",
   "execution_count": 10,
   "metadata": {},
   "outputs": [],
   "source": [
    "X, Y = RACERPreprocessor(target=\"multiclass\").fit_transform(X, Y)"
   ]
  },
  {
   "cell_type": "code",
   "execution_count": 11,
   "metadata": {},
   "outputs": [],
   "source": [
    "X_train, X_test, Y_train, Y_test = train_test_split(X,Y, random_state=1, test_size=0.3)"
   ]
  },
  {
   "cell_type": "code",
   "execution_count": 12,
   "metadata": {},
   "outputs": [
    {
     "name": "stdout",
     "output_type": "stream",
     "text": [
      "WARNING: RACER was unable to find a perfect match for 11 instances out of 519\n",
      "These instances will be labelled as the majority class during training.\n"
     ]
    },
    {
     "data": {
      "text/plain": [
       "0.9595375722543352"
      ]
     },
     "execution_count": 12,
     "metadata": {},
     "output_type": "execute_result"
    }
   ],
   "source": [
    "racer = RACER(alpha=0.998, suppress_warnings=False, benchmark=True)\n",
    "racer.fit(X_train, Y_train)\n",
    "racer.score(X_test, Y_test)"
   ]
  },
  {
   "cell_type": "code",
   "execution_count": 13,
   "metadata": {},
   "outputs": [
    {
     "name": "stdout",
     "output_type": "stream",
     "text": [
      "Algorithm Parameters:\n",
      "\t- Alpha: 0.998\n",
      "\t- Time to fit: 1.238102988000037s\n",
      "\n",
      "Final Rules (54 total): (if --> then (label) | fitness)\n",
      "\t[111111111111100111111] --> [0010] (2) | 0.9986534325889165\n",
      "\t[111111111111111111010] --> [0010] (2) | 0.998650124069479\n",
      "\t[100100011111111111111] --> [0010] (2) | 0.9982531017369727\n",
      "\t[000110011111111111111] --> [0010] (2) | 0.9982497932175352\n",
      "\t[100111111111111001011] --> [0010] (2) | 0.9982332506203474\n",
      "\t[101110011111111001011] --> [0010] (2) | 0.9981736972704714\n",
      "\t[100111111100110011011] --> [0010] (2) | 0.9981604631927212\n",
      "\t[111111111000101001111] --> [0010] (2) | 0.9981141439205955\n",
      "\t[111100011111111001011] --> [0010] (2) | 0.9981124896608767\n",
      "\t[101111111000101011011] --> [0010] (2) | 0.9981124896608767\n",
      "\t[101110011100110011011] --> [0010] (2) | 0.9981124896608767\n",
      "\t[100101100111011111100] --> [1000] (0) | 0.9980909842845327\n",
      "\t[101110001101110011011] --> [0010] (2) | 0.9980827129859388\n",
      "\t[100101101111011110100] --> [1000] (0) | 0.9980760959470637\n",
      "\t[100101100011011110101] --> [1000] (0) | 0.9980694789081885\n",
      "\t[100101100111001110101] --> [1000] (0) | 0.9980562448304384\n",
      "\t[011000010111011111100] --> [1000] (0) | 0.998051282051282\n",
      "\t[011000011111011100101] --> [1000] (0) | 0.9980430107526882\n",
      "\t[011001101111011100100] --> [0001] (3) | 0.9980413564929694\n",
      "\t[101010000111011111100] --> [1000] (0) | 0.9980380479735318\n",
      "\t[011001100011011110100] --> [0001] (3) | 0.9980380479735318\n",
      "\t[010010011111011110001] --> [1000] (0) | 0.9980347394540943\n",
      "\t[101010001111011100101] --> [1000] (0) | 0.9980347394540943\n",
      "\t[001010110011011110001] --> [1000] (0) | 0.9980314309346567\n",
      "\t[010011100011011110100] --> [0001] (3) | 0.998029776674938\n",
      "\t[011001100111011001001] --> [1000] (0) | 0.998029776674938\n",
      "\t[011010011110010011100] --> [1000] (0) | 0.9980281224152192\n",
      "\t[101010001111010111100] --> [1000] (0) | 0.9980281224152192\n",
      "\t[010011101111011100100] --> [0001] (3) | 0.9980281224152192\n",
      "\t[101100101110010011100] --> [1000] (0) | 0.998021505376344\n",
      "\t[010001100111001110001] --> [0100] (1) | 0.9980198511166253\n",
      "\t[010001100011011110001] --> [0100] (1) | 0.9980198511166253\n",
      "\t[001010001111001110101] --> [1000] (0) | 0.9980198511166253\n",
      "\t[011001000011011110001] --> [0100] (1) | 0.9980198511166253\n",
      "\t[010011101100010011001] --> [1000] (0) | 0.9980181968569065\n",
      "\t[011001001111001110001] --> [0100] (1) | 0.9980181968569065\n",
      "\t[010011000111001110100] --> [0001] (3) | 0.9980181968569065\n",
      "\t[011001101100010011001] --> [1000] (0) | 0.9980181968569065\n",
      "\t[010001101111011100001] --> [0100] (1) | 0.9980181968569065\n",
      "\t[101101101101010100001] --> [1000] (0) | 0.9980165425971878\n",
      "\t[001100101111011001100] --> [1000] (0) | 0.9980165425971878\n",
      "\t[001010111010011010100] --> [1000] (0) | 0.998014888337469\n",
      "\t[010010000111011001101] --> [1000] (0) | 0.998014888337469\n",
      "\t[010001100111011001100] --> [0100] (1) | 0.9980132340777502\n",
      "\t[110010000011001111001] --> [1000] (0) | 0.9980132340777502\n",
      "\t[010001101100010011100] --> [0100] (1) | 0.9980132340777502\n",
      "\t[001010110010011011100] --> [1000] (0) | 0.9980132340777502\n",
      "\t[011011101000011010001] --> [1000] (0) | 0.9980115798180315\n",
      "\t[011010011000011010100] --> [1000] (0) | 0.9980115798180315\n",
      "\t[011001001100010011100] --> [0100] (1) | 0.9980099255583127\n",
      "\t[101111101000001100001] --> [1000] (0) | 0.9980099255583127\n",
      "\t[011001000111011001100] --> [0100] (1) | 0.9980099255583127\n",
      "\t[001000100101001110100] --> [0001] (3) | 0.998006617038875\n",
      "\t[010001101000011010100] --> [0100] (1) | 0.998006617038875\n"
     ]
    }
   ],
   "source": [
    "racer.display_rules()\n"
   ]
  }
 ],
 "metadata": {
  "kernelspec": {
   "display_name": "Python 3",
   "language": "python",
   "name": "python3"
  },
  "language_info": {
   "codemirror_mode": {
    "name": "ipython",
    "version": 3
   },
   "file_extension": ".py",
   "mimetype": "text/x-python",
   "name": "python",
   "nbconvert_exporter": "python",
   "pygments_lexer": "ipython3",
   "version": "3.10.6"
  },
  "orig_nbformat": 4
 },
 "nbformat": 4,
 "nbformat_minor": 2
}
