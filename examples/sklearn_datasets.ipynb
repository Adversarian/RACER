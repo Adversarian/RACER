{
 "cells": [
  {
   "cell_type": "code",
   "execution_count": 1,
   "metadata": {},
   "outputs": [
    {
     "name": "stdout",
     "output_type": "stream",
     "text": [
      "(CVXPY) Jul 20 10:54:48 PM: Encountered unexpected exception importing solver GLOP:\n",
      "RuntimeError('Unrecognized new version of ortools (9.6.2534). Expected < 9.5.0.Please open a feature request on cvxpy to enable support for this version.')\n",
      "(CVXPY) Jul 20 10:54:48 PM: Encountered unexpected exception importing solver PDLP:\n",
      "RuntimeError('Unrecognized new version of ortools (9.6.2534). Expected < 9.5.0.Please open a feature request on cvxpy to enable support for this version.')\n"
     ]
    }
   ],
   "source": [
    "from RACER import RACER, RACERPreprocessor\n",
    "from sklearn.datasets import load_iris\n",
    "from sklearn.model_selection import train_test_split\n"
   ]
  },
  {
   "cell_type": "code",
   "execution_count": 2,
   "metadata": {},
   "outputs": [],
   "source": [
    "X, y = load_iris(return_X_y=True)"
   ]
  },
  {
   "cell_type": "code",
   "execution_count": 3,
   "metadata": {},
   "outputs": [],
   "source": [
    "X, y = RACERPreprocessor(target=\"multiclass\").fit_transform(X, y)"
   ]
  },
  {
   "cell_type": "code",
   "execution_count": 4,
   "metadata": {},
   "outputs": [],
   "source": [
    "X_train, X_test, y_train, y_test = train_test_split(X, y, random_state=1, test_size=0.3)"
   ]
  },
  {
   "cell_type": "code",
   "execution_count": 5,
   "metadata": {},
   "outputs": [
    {
     "data": {
      "text/plain": [
       "0.7555555555555555"
      ]
     },
     "execution_count": 5,
     "metadata": {},
     "output_type": "execute_result"
    }
   ],
   "source": [
    "racer = RACER(alpha=0.95, suppress_warnings=False, benchmark=True)\n",
    "racer.fit(X_train, y_train)\n",
    "racer.score(X_test, y_test)"
   ]
  },
  {
   "cell_type": "code",
   "execution_count": 6,
   "metadata": {},
   "outputs": [
    {
     "name": "stdout",
     "output_type": "stream",
     "text": [
      "Algorithm Parameters:\n",
      "\t- Alpha: 0.95\n",
      "\t- Time to fit: 0.04631422099998872s\n",
      "\n",
      "Final Rules (14 total): (if --> then (label) | fitness)\n",
      "\t[1110001111] --> [100] (0) | 0.9633333333333333\n",
      "\t[1000011111] --> [100] (0) | 0.9604761904761905\n",
      "\t[0110010011] --> [010] (1) | 0.9509523809523809\n",
      "\t[0001010011] --> [001] (2) | 0.8597619047619047\n",
      "\t[0001010111] --> [001] (2) | 0.8304761904761905\n",
      "\t[1000111111] --> [100] (0) | 0.8276190476190475\n",
      "\t[0100110011] --> [010] (1) | 0.8176190476190475\n",
      "\t[0110110011] --> [010] (1) | 0.7973809523809523\n",
      "\t[0001011111] --> [001] (2) | 0.7344991789819375\n",
      "\t[0001111111] --> [001] (2) | 0.6346720575022462\n",
      "\t[0011111111] --> [001] (2) | 0.5827380952380953\n",
      "\t[1111100011] --> [010] (1) | 0.565297619047619\n",
      "\t[0111110011] --> [010] (1) | 0.4969047619047619\n",
      "\t[1111111011] --> [001] (2) | 0.4299702380952381\n"
     ]
    }
   ],
   "source": [
    "racer.display_rules()"
   ]
  }
 ],
 "metadata": {
  "kernelspec": {
   "display_name": "Python 3",
   "language": "python",
   "name": "python3"
  },
  "language_info": {
   "codemirror_mode": {
    "name": "ipython",
    "version": 3
   },
   "file_extension": ".py",
   "mimetype": "text/x-python",
   "name": "python",
   "nbconvert_exporter": "python",
   "pygments_lexer": "ipython3",
   "version": "3.10.6"
  },
  "orig_nbformat": 4
 },
 "nbformat": 4,
 "nbformat_minor": 2
}
